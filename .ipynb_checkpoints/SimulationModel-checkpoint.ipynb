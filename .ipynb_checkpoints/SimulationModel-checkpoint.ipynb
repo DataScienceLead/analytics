{
 "cells": [
  {
   "cell_type": "markdown",
   "id": "7c971889-516b-44f9-9bd8-46db41eaa41f",
   "metadata": {},
   "source": [
    "# Generic simulation model in python"
   ]
  },
  {
   "cell_type": "code",
   "execution_count": 2,
   "id": "3085b789-e2d5-46c9-b222-34403208222d",
   "metadata": {},
   "outputs": [],
   "source": [
    "import pandas as pd\n",
    "import matplotlib.pyplot as plt\n",
    "import numpy as np\n",
    "\n"
   ]
  },
  {
   "cell_type": "code",
   "execution_count": 3,
   "id": "60f41976-b99b-4e9a-aebd-d3eab1b33ae9",
   "metadata": {},
   "outputs": [
    {
     "ename": "NameError",
     "evalue": "name 'z' is not defined",
     "output_type": "error",
     "traceback": [
      "\u001b[1;31m---------------------------------------------------------------------------\u001b[0m",
      "\u001b[1;31mNameError\u001b[0m                                 Traceback (most recent call last)",
      "\u001b[1;32mC:\\Users\\JPREST~1\\AppData\\Local\\Temp/ipykernel_26740/412697388.py\u001b[0m in \u001b[0;36m<module>\u001b[1;34m\u001b[0m\n\u001b[1;32m----> 1\u001b[1;33m \u001b[0mrente\u001b[0m \u001b[1;33m=\u001b[0m \u001b[0mz\u001b[0m\u001b[1;33m.\u001b[0m\u001b[0mtextbox\u001b[0m\u001b[1;33m(\u001b[0m\u001b[1;34m\"Diskonteringsrente\"\u001b[0m\u001b[1;33m,\u001b[0m\u001b[1;34m\"0.06\"\u001b[0m\u001b[1;33m)\u001b[0m\u001b[1;33m\u001b[0m\u001b[1;33m\u001b[0m\u001b[0m\n\u001b[0m\u001b[0;32m      2\u001b[0m \u001b[0mnedtrapp\u001b[0m \u001b[1;33m=\u001b[0m \u001b[0mz\u001b[0m\u001b[1;33m.\u001b[0m\u001b[0mtextbox\u001b[0m\u001b[1;33m(\u001b[0m\u001b[1;34m'Nedtrappingsrate per kvartal'\u001b[0m\u001b[1;33m,\u001b[0m \u001b[1;34m'0.05'\u001b[0m\u001b[1;33m)\u001b[0m\u001b[1;33m\u001b[0m\u001b[1;33m\u001b[0m\u001b[0m\n\u001b[0;32m      3\u001b[0m \u001b[0minvest\u001b[0m \u001b[1;33m=\u001b[0m \u001b[0mz\u001b[0m\u001b[1;33m.\u001b[0m\u001b[0mtextbox\u001b[0m\u001b[1;33m(\u001b[0m\u001b[1;34m\"Investeringsbeløp i kroner\"\u001b[0m\u001b[1;33m,\u001b[0m \u001b[1;34m\"99000\"\u001b[0m\u001b[1;33m)\u001b[0m\u001b[1;33m\u001b[0m\u001b[1;33m\u001b[0m\u001b[0m\n\u001b[0;32m      4\u001b[0m \u001b[1;31m# lisensKostnaderMnd = z.textbox(\"Månedlige lisenskostnader eller tilsvarende\", \"1\")\u001b[0m\u001b[1;33m\u001b[0m\u001b[1;33m\u001b[0m\u001b[0m\n\u001b[0;32m      5\u001b[0m \u001b[1;31m# driftsKostnaderMnd = z.textbox(\"Månedlige driftskostnader, eksterne og interne\", \"1\")\u001b[0m\u001b[1;33m\u001b[0m\u001b[1;33m\u001b[0m\u001b[0m\n",
      "\u001b[1;31mNameError\u001b[0m: name 'z' is not defined"
     ]
    }
   ],
   "source": [
    "rente = z.textbox(\"Diskonteringsrente\",\"0.06\")\n",
    "nedtrapp = z.textbox('Nedtrappingsrate per kvartal', '0.05')\n",
    "invest = z.textbox(\"Investeringsbeløp i kroner\", \"99000\")\n",
    "# lisensKostnaderMnd = z.textbox(\"Månedlige lisenskostnader eller tilsvarende\", \"1\")\n",
    "# driftsKostnaderMnd = z.textbox(\"Månedlige driftskostnader, eksterne og interne\", \"1\")\n",
    "# inntekterMnd = z.textbox(\"Månedlige inntekter\", \"1\")\n",
    "\n",
    "# Kodebrikker\n",
    "antKodeBrikke = z.textbox(\"Antall kodebrikker i 3. kvartal 2021\", \"800\") # nye kunder + de som mister brikke\n",
    "kostKodeBrikke = z.textbox(\"Kost per kodebrikke i kr\", \"74\")\n",
    "# terskelKodeBrikke = z.textbox(\"Minumums forbruk av kodebrikker per kvartal\", \"50\")\n",
    "# PUM \n",
    "antPum = z.textbox('Antall PUM i 3. kvartal 2021', '700')\n",
    "kostPum = z.textbox('Kostnad per PUM i min', '15')\n",
    "\n",
    "# terskelPum = z.textbox('Minimums forbruk av PUM', '100')\n",
    "# terskelPumKS = z.textbox('Minimums forbruk av PUM fram til godkjenning Bank-ID', '500')\n",
    "# Bank-ID mobil (BIM)\n",
    "antBim = z.textbox('Antall bank-id på mobil, 3. kvartal 2021', '250000')  # 7500 kunder a 2,5 ganger per uke (har 2,1 mill bankid per år hvor stor andel er bankid på mobil?)\n",
    "kostBim = z.textbox('Kostnad per Bank-ID mobil transaksjoner, i kr', '0.00')\n",
    "\n",
    "# vekst\n",
    "# vekstrate = z.textbox(\"Kvartalsvis kundevekst, i ant. kunder\", \"400\")\n",
    "# Alternativ til å bruke ant. pum og justere ned kost gradvis er å bruke andel kunder som bruker BIM, gange med ant. kunder og transaksjoner, og deretter lage anslag som hensyntar vekst i ant. kunder"
   ]
  },
  {
   "cell_type": "code",
   "execution_count": 4,
   "id": "f2eb387a-ec5e-4d5c-be63-937932a3dd94",
   "metadata": {},
   "outputs": [
    {
     "ename": "NameError",
     "evalue": "name 'rente' is not defined",
     "output_type": "error",
     "traceback": [
      "\u001b[1;31m---------------------------------------------------------------------------\u001b[0m",
      "\u001b[1;31mNameError\u001b[0m                                 Traceback (most recent call last)",
      "\u001b[1;32mC:\\Users\\JPREST~1\\AppData\\Local\\Temp/ipykernel_26740/559211854.py\u001b[0m in \u001b[0;36m<module>\u001b[1;34m\u001b[0m\n\u001b[0;32m      1\u001b[0m \u001b[1;31m# change text-inputs to float\u001b[0m\u001b[1;33m\u001b[0m\u001b[1;33m\u001b[0m\u001b[0m\n\u001b[0;32m      2\u001b[0m \u001b[0mantKvartal\u001b[0m \u001b[1;33m=\u001b[0m \u001b[1;36m12\u001b[0m\u001b[1;33m\u001b[0m\u001b[1;33m\u001b[0m\u001b[0m\n\u001b[1;32m----> 3\u001b[1;33m \u001b[0mr\u001b[0m\u001b[1;33m=\u001b[0m\u001b[0mfloat\u001b[0m\u001b[1;33m(\u001b[0m\u001b[0mrente\u001b[0m\u001b[1;33m)\u001b[0m\u001b[1;33m/\u001b[0m\u001b[1;36m4\u001b[0m\u001b[1;33m\u001b[0m\u001b[1;33m\u001b[0m\u001b[0m\n\u001b[0m\u001b[0;32m      4\u001b[0m \u001b[0mnedtrapping\u001b[0m \u001b[1;33m=\u001b[0m \u001b[1;36m1\u001b[0m\u001b[1;33m-\u001b[0m\u001b[0mfloat\u001b[0m\u001b[1;33m(\u001b[0m\u001b[0mnedtrapp\u001b[0m\u001b[1;33m)\u001b[0m\u001b[1;33m\u001b[0m\u001b[1;33m\u001b[0m\u001b[0m\n\u001b[0;32m      5\u001b[0m \u001b[0minvest\u001b[0m \u001b[1;33m=\u001b[0m \u001b[0mint\u001b[0m\u001b[1;33m(\u001b[0m\u001b[0minvest\u001b[0m\u001b[1;33m)\u001b[0m\u001b[1;33m\u001b[0m\u001b[1;33m\u001b[0m\u001b[0m\n",
      "\u001b[1;31mNameError\u001b[0m: name 'rente' is not defined"
     ]
    }
   ],
   "source": [
    "# change text-inputs to float\n",
    "antKvartal = 12\n",
    "r=float(rente)/4\n",
    "nedtrapping = 1-float(nedtrapp)\n",
    "invest = int(invest)\n",
    "# lisensKost = float(lisensKostnader\n",
    "# driftKost = float(driftsKostnader)\n",
    "antKodeB = float(antKodeBrikke)\n",
    "antKodeBListe = [0]*antKvartal\n",
    "kostPrKodeB = float(kostKodeBrikke)\n",
    "# terskelKodeB = float(terskelKodeBrikke)\n",
    "\n",
    "antMinPerTime = 60\n",
    "antPUM = float(antPum)\n",
    "antPUMListe = [0]*antKvartal \n",
    "kostPrPUM = float(kostPum)/antMinPerTime\n",
    "kostPrPumUt = 450\n",
    "# kostPUMListe = [0]*8\n",
    "antBIM = float(antBim)\n",
    "antBIMListe = [0]*antKvartal \n",
    "kostPrBIM = float(kostBim)\n",
    "# kostBIMListe = [0]*8\n",
    "\n",
    "# terskelPUM = float(terskelPum)\n",
    "# terskelPUMKS = float(terskelPumKS)\n",
    "\n",
    "andelTelenor = 0.4\n",
    "timekost = 600\n",
    "\n",
    "\n",
    "# vekst = float(vekstrate)"
   ]
  },
  {
   "cell_type": "code",
   "execution_count": null,
   "id": "1080862f-5f54-468b-88fe-5c7397d2a292",
   "metadata": {},
   "outputs": [],
   "source": [
    "investListe = [0]*antKvartal\n",
    "investListe[0]=invest\n",
    "kpi = [1]*antKvartal\n",
    "\n",
    "\n",
    "for i in range(0,antKvartal):\n",
    "    antPUMListe[i]=antPUM**nedtrapping**i\n",
    "    antBIMListe[i]=antBIM**nedtrapping**i\n",
    "    antKodeBListe[i]=antKodeB**nedtrapping**i\n",
    "    kpi[i] = kpi[0]*1.005**i\n",
    "    \n",
    "    \n",
    "    # print(antPUMListe[i])\n",
    "# antPUMListe, antBIMListe\n",
    "\n",
    "\n",
    "datoer = [pd.to_datetime('2021-07-01'),pd.to_datetime('2021-10-01'), pd.to_datetime('2022-01-01'), pd.to_datetime('2022-04-01'), pd.to_datetime('2022-07-01'), pd.to_datetime('2022-10-01'), pd.to_datetime('2023-01-01') , pd.to_datetime('2023-04-01'),pd.to_datetime('2023-07-01'), pd.to_datetime('2023-10-01'), pd.to_datetime('2024-01-01'), pd.to_datetime('2024-04-01')]\n",
    "\n",
    "#, pd.to_datetime('2024-07-01'),  pd.to_datetime('2024-10-01'),  pd.to_datetime('2025-01-01'),  pd.to_datetime('2025-04-01')]\n",
    "\n",
    "\n",
    "\n",
    "df = pd.DataFrame({'date':datoer, 'PUM':antPUMListe,'BIM':antBIMListe, 'Kodebrikke':antKodeBListe, 'Investering':investListe, 'kpi':kpi})\n",
    "\n",
    "df['KostPUM']=df['PUM']*kostPrPUM*timekost+kostPrPumUt*df['PUM']\n",
    "df['KostBIM']=df['BIM']*kostPrBIM*andelTelenor\n",
    "df['KostKodebrikke']=df['Kodebrikke']*kostPrKodeB\n",
    "\n",
    "df['Kostnad']=df['KostPUM']+df['KostBIM']+df['KostKodebrikke']\n",
    "\n",
    "df['Kostnadsbesparelse'] = (df['Kostnad'][0]-df['Kostnad'] )*df['kpi']\n",
    "\n",
    "\n",
    "\n",
    "\n",
    "df['values'] = df['Kostnadsbesparelse']-df['Investering']"
   ]
  },
  {
   "cell_type": "code",
   "execution_count": null,
   "id": "6aa3bc9f-5b0f-4f8b-b890-ad94511693cc",
   "metadata": {},
   "outputs": [],
   "source": [
    "import matplotlib.pyplot as plt\n",
    "\n",
    "\n",
    "fig, ax1 = plt.subplots()\n",
    "\n",
    "color  = 'tab:red'\n",
    "ax1.set_xlabel('Dato')\n",
    "ax1.set_ylabel('Ant. BIM')\n",
    "ax1.plot(df['date'], df['BIM'], color=color)\n",
    "ax1.tick_params(axis ='y', labelcolor = color) \n",
    "plt.xticks(rotation=60) \n",
    "\n",
    "ax2= ax1.twinx()\n",
    "\n",
    "color = 'tab:orange'\n",
    "ax2.set_ylabel('Ant PUM og kodebrikker')\n",
    "ax2.plot(df['date'], df['PUM'])\n",
    "ax2.plot(df['date'], df['Kodebrikke'])\n",
    "ax2.tick_params(axis='y', labelcolor=color)\n",
    "\n",
    "# df['Kodebrikke'].plot()\n",
    "plt.legend\n",
    "plt.title('Utvikling i antall BIM, PUM (høyre) og Kodebrikker (høyre)')\n",
    "plt.show()"
   ]
  },
  {
   "cell_type": "code",
   "execution_count": null,
   "id": "5cdaa399-d04b-4dd2-b7e1-0817144f110a",
   "metadata": {},
   "outputs": [],
   "source": [
    "values = df['Kostnadsbesparelse']\n",
    "print(values)\n",
    "\n",
    "\n",
    "\n",
    "npv = int(np.npv(r, values))\n",
    "\n",
    "\n",
    "\n",
    "lonnsom= \"j\"\n",
    "kjorpa=\"\"\n",
    "\n",
    "if npv >= 0:\n",
    "    lonnsom = \"er\"\n",
    "    kjorpa= \"Kjør på dette tjener vi penger på!\"\n",
    "else:\n",
    "    lonnsom =\"er ikke\"\n",
    "    kjorpa =\"Derfor vil vi ikke tjene penger på dette. Gå gjennom kalylen på nytt eller skrot forslaget!\"\n",
    "\n",
    "    \n",
    "\n",
    "\n",
    "print('''%html <h3>Netto nåverdi av denne investeringen er: {npv} kroner. Dette {lonnsom} en lønnsom investering. {kjorpa}</h3> '''.format(npv=npv, lonnsom=lonnsom, kjorpa=kjorpa))"
   ]
  },
  {
   "cell_type": "code",
   "execution_count": null,
   "id": "1038722e-9c27-43ca-b290-78b04505048d",
   "metadata": {},
   "outputs": [],
   "source": []
  },
  {
   "cell_type": "code",
   "execution_count": null,
   "id": "d0575e67-9642-4206-96ca-84f37ee9aaa9",
   "metadata": {},
   "outputs": [],
   "source": []
  },
  {
   "cell_type": "code",
   "execution_count": null,
   "id": "a271f3e0-37aa-4eb3-8407-08ccfdab187d",
   "metadata": {},
   "outputs": [],
   "source": []
  }
 ],
 "metadata": {
  "kernelspec": {
   "display_name": "Python 3 (ipykernel)",
   "language": "python",
   "name": "python3"
  },
  "language_info": {
   "codemirror_mode": {
    "name": "ipython",
    "version": 3
   },
   "file_extension": ".py",
   "mimetype": "text/x-python",
   "name": "python",
   "nbconvert_exporter": "python",
   "pygments_lexer": "ipython3",
   "version": "3.9.7"
  }
 },
 "nbformat": 4,
 "nbformat_minor": 5
}
