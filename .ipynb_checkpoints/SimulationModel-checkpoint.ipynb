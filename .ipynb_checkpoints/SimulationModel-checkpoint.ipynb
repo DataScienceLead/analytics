{
 "cells": [
  {
   "cell_type": "markdown",
   "id": "7c971889-516b-44f9-9bd8-46db41eaa41f",
   "metadata": {},
   "source": [
    "# Generic simulation model in python"
   ]
  },
  {
   "cell_type": "code",
   "execution_count": 5,
   "id": "3085b789-e2d5-46c9-b222-34403208222d",
   "metadata": {},
   "outputs": [],
   "source": [
    "import pandas as pd\n",
    "import matplotlib.pyplot as plt\n",
    "import numpy as np\n",
    "\n",
    "from __future__ import print_function\n",
    "from ipywidgets import interact, interactive, fixed, interact_manual\n",
    "import ipywidgets as widgets\n"
   ]
  },
  {
   "cell_type": "code",
   "execution_count": 14,
   "id": "7c207c75-004a-4127-b7a7-5a7ac460f87b",
   "metadata": {},
   "outputs": [
    {
     "data": {
      "application/vnd.jupyter.widget-view+json": {
       "model_id": "25f8dd92b91d45d3b4f66bf17c563d19",
       "version_major": 2,
       "version_minor": 0
      },
      "text/plain": [
       "interactive(children=(Text(value='10', description='antProduktA'), Output()), _dom_classes=('widget-interact',…"
      ]
     },
     "metadata": {},
     "output_type": "display_data"
    }
   ],
   "source": [
    "def f(antProduktA):\n",
    "    return(antProduktA)\n",
    "\n",
    "antProduktA = interact(f, antProduktA='10');"
   ]
  },
  {
   "cell_type": "code",
   "execution_count": 15,
   "id": "9c20caa5-c6a6-4f6a-936c-660d1b49ad9c",
   "metadata": {},
   "outputs": [
    {
     "name": "stdout",
     "output_type": "stream",
     "text": [
      "<function f at 0x000001BCE2D68AF0>\n"
     ]
    }
   ],
   "source": [
    "print(antProduktA)"
   ]
  },
  {
   "cell_type": "code",
   "execution_count": 4,
   "id": "60f41976-b99b-4e9a-aebd-d3eab1b33ae9",
   "metadata": {},
   "outputs": [
    {
     "ename": "NameError",
     "evalue": "name 'z' is not defined",
     "output_type": "error",
     "traceback": [
      "\u001b[1;31m---------------------------------------------------------------------------\u001b[0m",
      "\u001b[1;31mNameError\u001b[0m                                 Traceback (most recent call last)",
      "\u001b[1;32mC:\\Users\\JPREST~1\\AppData\\Local\\Temp/ipykernel_9400/2218602378.py\u001b[0m in \u001b[0;36m<module>\u001b[1;34m\u001b[0m\n\u001b[1;32m----> 1\u001b[1;33m \u001b[0mrente\u001b[0m \u001b[1;33m=\u001b[0m \u001b[0mz\u001b[0m\u001b[1;33m.\u001b[0m\u001b[0mtextbox\u001b[0m\u001b[1;33m(\u001b[0m\u001b[1;34m\"Diskonteringsrente\"\u001b[0m\u001b[1;33m,\u001b[0m\u001b[1;34m\"0.06\"\u001b[0m\u001b[1;33m)\u001b[0m\u001b[1;33m\u001b[0m\u001b[1;33m\u001b[0m\u001b[0m\n\u001b[0m\u001b[0;32m      2\u001b[0m \u001b[0mnedtrapp\u001b[0m \u001b[1;33m=\u001b[0m \u001b[0mz\u001b[0m\u001b[1;33m.\u001b[0m\u001b[0mtextbox\u001b[0m\u001b[1;33m(\u001b[0m\u001b[1;34m'Nedtrappingsrate per kvartal'\u001b[0m\u001b[1;33m,\u001b[0m \u001b[1;34m'0.05'\u001b[0m\u001b[1;33m)\u001b[0m\u001b[1;33m\u001b[0m\u001b[1;33m\u001b[0m\u001b[0m\n\u001b[0;32m      3\u001b[0m \u001b[0minvest\u001b[0m \u001b[1;33m=\u001b[0m \u001b[0mz\u001b[0m\u001b[1;33m.\u001b[0m\u001b[0mtextbox\u001b[0m\u001b[1;33m(\u001b[0m\u001b[1;34m\"Investeringsbeløp i kroner\"\u001b[0m\u001b[1;33m,\u001b[0m \u001b[1;34m\"99000\"\u001b[0m\u001b[1;33m)\u001b[0m\u001b[1;33m\u001b[0m\u001b[1;33m\u001b[0m\u001b[0m\n\u001b[0;32m      4\u001b[0m \u001b[1;31m# lisensKostnaderMnd = z.textbox(\"Månedlige lisenskostnader eller tilsvarende\", \"1\")\u001b[0m\u001b[1;33m\u001b[0m\u001b[1;33m\u001b[0m\u001b[0m\n\u001b[0;32m      5\u001b[0m \u001b[1;31m# driftsKostnaderMnd = z.textbox(\"Månedlige driftskostnader, eksterne og interne\", \"1\")\u001b[0m\u001b[1;33m\u001b[0m\u001b[1;33m\u001b[0m\u001b[0m\n",
      "\u001b[1;31mNameError\u001b[0m: name 'z' is not defined"
     ]
    }
   ],
   "source": [
    "rente = z.textbox(\"Diskonteringsrente\",\"0.06\")\n",
    "nedtrapp = z.textbox('Nedtrappingsrate per kvartal', '0.05')\n",
    "invest = z.textbox(\"Investeringsbeløp i kroner\", \"99000\")\n",
    "# lisensKostnaderMnd = z.textbox(\"Månedlige lisenskostnader eller tilsvarende\", \"1\")\n",
    "# driftsKostnaderMnd = z.textbox(\"Månedlige driftskostnader, eksterne og interne\", \"1\")\n",
    "# inntekterMnd = z.textbox(\"Månedlige inntekter\", \"1\")\n",
    "\n",
    "# Produkt A\n",
    "antproduktA = z.textbox(\"Antall produktA i 3. kvartal 2021\", \"800\") # nye kunder + de som mister brikke\n",
    "kostproduktA = z.textbox(\"Kost per produktA i kr\", \"74\")\n",
    "\n",
    "# Produkt B \n",
    "antproduktB = z.textbox('Antall av produktA kjøp i 3. kvartal 2021', '700')\n",
    "kostproduktB = z.textbox('Kostnad per produktB i min', '15')\n",
    "\n",
    "# Produkt C \n",
    "antproduktC = z.textbox('Antall produktC, 3. kvartal 2021', '250000')  # 7500 kunder a 2,5 ganger per uke (har 2,1 mill bankid per år hvor stor andel er bankid på mobil?)\n",
    "kostproduktC = z.textbox('Kostnad per produktC, i kr', '0.00')\n",
    "\n",
    "# vekst\n",
    "# vekstrate = z.textbox(\"Kvartalsvis kundevekst, i ant. kunder\", \"400\")\n"
   ]
  },
  {
   "cell_type": "code",
   "execution_count": null,
   "id": "2d65949f-8b9f-46d8-b101-5ed70f739983",
   "metadata": {},
   "outputs": [],
   "source": []
  },
  {
   "cell_type": "code",
   "execution_count": null,
   "id": "f2eb387a-ec5e-4d5c-be63-937932a3dd94",
   "metadata": {},
   "outputs": [],
   "source": [
    "# change text-inputs to float\n",
    "antKvartal = 12\n",
    "r=float(rente)/4\n",
    "nedtrapping = 1-float(nedtrapp)\n",
    "invest = int(invest)\n",
    "# lisensKost = float(lisensKostnader\n",
    "# driftKost = float(driftsKostnader)\n",
    "produktA = float(produktA)\n",
    "produktAListe = [0]*antKvartal\n",
    "kostPrproduktA = float(kostproduktA)\n",
    "# terskelKodeB = float(terskelKodeBrikke)\n",
    "\n",
    "antMinPerTime = 60\n",
    "antproduktB = float(antproduktB)\n",
    "antproduktBListe = [0]*antKvartal \n",
    "kostPrproduktB = float(kostproduktB)/antMinPerTime\n",
    "kostPrproduktBUt = 450\n",
    "# kostPUMListe = [0]*8\n",
    "antproduktC = float(antproduktC)\n",
    "antproduktCListe = [0]*antKvartal \n",
    "kostPrproduktC = float(kostproduktC)\n",
    "# kostBIMListe = [0]*8\n",
    "\n",
    "# terskelPUM = float(terskelPum)\n",
    "# terskelPUMKS = float(terskelPumKS)\n",
    "\n",
    "andelLeverndor = 0.4\n",
    "timekost = 600\n",
    "\n",
    "\n",
    "# vekst = float(vekstrate)"
   ]
  },
  {
   "cell_type": "code",
   "execution_count": null,
   "id": "1080862f-5f54-468b-88fe-5c7397d2a292",
   "metadata": {},
   "outputs": [],
   "source": [
    "investListe = [0]*antKvartal\n",
    "investListe[0]=invest\n",
    "kpi = [1]*antKvartal\n",
    "\n",
    "\n",
    "for i in range(0,antKvartal):\n",
    "    antproduktAListe[i]=antproduktA**nedtrapping**i\n",
    "    antproduktBListe[i]=antproduktB**nedtrapping**i\n",
    "    antproduktCListe[i]=antproduktC**nedtrapping**i\n",
    "    kpi[i] = kpi[0]*1.005**i\n",
    "    \n",
    "    \n",
    "    # print(antPUMListe[i])\n",
    "# antPUMListe, antBIMListe\n",
    "\n",
    "\n",
    "datoer = [pd.to_datetime('2021-07-01'),pd.to_datetime('2021-10-01'), pd.to_datetime('2022-01-01'), pd.to_datetime('2022-04-01'), pd.to_datetime('2022-07-01'), pd.to_datetime('2022-10-01'), pd.to_datetime('2023-01-01') , pd.to_datetime('2023-04-01'),pd.to_datetime('2023-07-01'), pd.to_datetime('2023-10-01'), pd.to_datetime('2024-01-01'), pd.to_datetime('2024-04-01')]\n",
    "\n",
    "#, pd.to_datetime('2024-07-01'),  pd.to_datetime('2024-10-01'),  pd.to_datetime('2025-01-01'),  pd.to_datetime('2025-04-01')]\n",
    "\n",
    "\n",
    "\n",
    "df = pd.DataFrame({'date':datoer, 'PUM':antPUMListe,'BIM':antBIMListe, 'Kodebrikke':antKodeBListe, 'Investering':investListe, 'kpi':kpi})\n",
    "\n",
    "df['KostproduktA']=df['produktA']*kostPrproduktA*timekost+kostPrproduktAUt*df['PUM']\n",
    "df['KostproduktB']=df['produktB']*kostPrproduktB*andelLeverndor\n",
    "df['KostproduktC']=df['produktC']*kostPrproduktC\n",
    "\n",
    "df['Kostnad']=df['KostproduktA']+df['KostproduktB']+df['KostproduktC']\n",
    "\n",
    "df['Kostnadsbesparelse'] = (df['Kostnad'][0]-df['Kostnad'] )*df['kpi']\n",
    "\n",
    "\n",
    "\n",
    "\n",
    "df['values'] = df['Kostnadsbesparelse']-df['Investering']"
   ]
  },
  {
   "cell_type": "code",
   "execution_count": null,
   "id": "6aa3bc9f-5b0f-4f8b-b890-ad94511693cc",
   "metadata": {},
   "outputs": [],
   "source": [
    "import matplotlib.pyplot as plt\n",
    "\n",
    "\n",
    "fig, ax1 = plt.subplots()\n",
    "\n",
    "color  = 'tab:red'\n",
    "ax1.set_xlabel('Dato')\n",
    "ax1.set_ylabel('Ant. produktA')\n",
    "ax1.plot(df['date'], df['produktA'], color=color)\n",
    "ax1.tick_params(axis ='y', labelcolor = color) \n",
    "plt.xticks(rotation=60) \n",
    "\n",
    "ax2= ax1.twinx()\n",
    "\n",
    "color = 'tab:orange'\n",
    "ax2.set_ylabel('Ant produktB og produktC')\n",
    "ax2.plot(df['date'], df['produktB'])\n",
    "ax2.plot(df['date'], df['produktC'])\n",
    "ax2.tick_params(axis='y', labelcolor=color)\n",
    "\n",
    "# df['Kodebrikke'].plot()\n",
    "plt.legend\n",
    "plt.title('Utvikling i antall produkt A og B (høyre) og produkt C (høyre)')\n",
    "plt.show()"
   ]
  },
  {
   "cell_type": "code",
   "execution_count": 3,
   "id": "5cdaa399-d04b-4dd2-b7e1-0817144f110a",
   "metadata": {},
   "outputs": [
    {
     "ename": "NameError",
     "evalue": "name 'df' is not defined",
     "output_type": "error",
     "traceback": [
      "\u001b[1;31m---------------------------------------------------------------------------\u001b[0m",
      "\u001b[1;31mNameError\u001b[0m                                 Traceback (most recent call last)",
      "\u001b[1;32mC:\\Users\\JPREST~1\\AppData\\Local\\Temp/ipykernel_9400/3599935464.py\u001b[0m in \u001b[0;36m<module>\u001b[1;34m\u001b[0m\n\u001b[1;32m----> 1\u001b[1;33m \u001b[0mvalues\u001b[0m \u001b[1;33m=\u001b[0m \u001b[0mdf\u001b[0m\u001b[1;33m[\u001b[0m\u001b[1;34m'Kostnadsbesparelse'\u001b[0m\u001b[1;33m]\u001b[0m\u001b[1;33m\u001b[0m\u001b[1;33m\u001b[0m\u001b[0m\n\u001b[0m\u001b[0;32m      2\u001b[0m \u001b[0mprint\u001b[0m\u001b[1;33m(\u001b[0m\u001b[0mvalues\u001b[0m\u001b[1;33m)\u001b[0m\u001b[1;33m\u001b[0m\u001b[1;33m\u001b[0m\u001b[0m\n\u001b[0;32m      3\u001b[0m \u001b[1;33m\u001b[0m\u001b[0m\n\u001b[0;32m      4\u001b[0m \u001b[1;33m\u001b[0m\u001b[0m\n\u001b[0;32m      5\u001b[0m \u001b[1;33m\u001b[0m\u001b[0m\n",
      "\u001b[1;31mNameError\u001b[0m: name 'df' is not defined"
     ]
    }
   ],
   "source": [
    "values = df['Kostnadsbesparelse']\n",
    "print(values)\n",
    "\n",
    "\n",
    "\n",
    "npv = int(np.npv(r, values))\n",
    "\n",
    "\n",
    "\n",
    "lonnsom= \"j\"\n",
    "kjorpa=\"\"\n",
    "\n",
    "if npv >= 0:\n",
    "    lonnsom = \"er\"\n",
    "    kjorpa= \"Kjør på dette tjener vi penger på!\"\n",
    "else:\n",
    "    lonnsom =\"er ikke\"\n",
    "    kjorpa =\"Derfor vil vi ikke tjene penger på dette. Gå gjennom kalylen på nytt eller skrot forslaget!\"\n",
    "\n",
    "    \n",
    "\n",
    "\n",
    "print('''%html <h3>Netto nåverdi av denne investeringen er: {npv} kroner. Dette {lonnsom} en lønnsom investering. {kjorpa}</h3> '''.format(npv=npv, lonnsom=lonnsom, kjorpa=kjorpa))"
   ]
  },
  {
   "cell_type": "code",
   "execution_count": null,
   "id": "1038722e-9c27-43ca-b290-78b04505048d",
   "metadata": {},
   "outputs": [],
   "source": []
  },
  {
   "cell_type": "code",
   "execution_count": null,
   "id": "d0575e67-9642-4206-96ca-84f37ee9aaa9",
   "metadata": {},
   "outputs": [],
   "source": []
  },
  {
   "cell_type": "code",
   "execution_count": null,
   "id": "a271f3e0-37aa-4eb3-8407-08ccfdab187d",
   "metadata": {},
   "outputs": [],
   "source": []
  }
 ],
 "metadata": {
  "kernelspec": {
   "display_name": "Python 3 (ipykernel)",
   "language": "python",
   "name": "python3"
  },
  "language_info": {
   "codemirror_mode": {
    "name": "ipython",
    "version": 3
   },
   "file_extension": ".py",
   "mimetype": "text/x-python",
   "name": "python",
   "nbconvert_exporter": "python",
   "pygments_lexer": "ipython3",
   "version": "3.9.7"
  }
 },
 "nbformat": 4,
 "nbformat_minor": 5
}
