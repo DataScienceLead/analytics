{
 "cells": [
  {
   "cell_type": "code",
   "execution_count": 2,
   "id": "24f2a580-5886-4ca4-84c5-7569ce4d5a61",
   "metadata": {},
   "outputs": [],
   "source": [
    "import pandas as pd\n",
    "import matplotlib.pyplot as plt\n",
    "import seaborn as sns\n",
    "\n",
    "pd.set_option('display.max_columns', None)\n"
   ]
  },
  {
   "cell_type": "code",
   "execution_count": 4,
   "id": "13ba28d3-68fa-4dd9-b283-35bcc88a06f0",
   "metadata": {},
   "outputs": [],
   "source": [
    "datasett_over = \"../Data/enheter_alle.xlsx\"\n",
    "datasett_under = \"../Data/underenheter_alle.xlsx\"\n",
    "df = pd.read_excel(datasett_over, sheet_name = \"orkland\")\n",
    "df_under = pd.read_excel(datasett_under)"
   ]
  },
  {
   "cell_type": "code",
   "execution_count": 10,
   "id": "9dee70cb-7a1f-4aee-9df6-ee5b6ad8f9ba",
   "metadata": {},
   "outputs": [],
   "source": [
    "df_ny = pd.concat([df, df_under], sort=False)"
   ]
  },
  {
   "cell_type": "code",
   "execution_count": 13,
   "id": "1bac6c65-ba94-4ff0-a719-748745272f83",
   "metadata": {},
   "outputs": [
    {
     "data": {
      "text/html": [
       "<div>\n",
       "<style scoped>\n",
       "    .dataframe tbody tr th:only-of-type {\n",
       "        vertical-align: middle;\n",
       "    }\n",
       "\n",
       "    .dataframe tbody tr th {\n",
       "        vertical-align: top;\n",
       "    }\n",
       "\n",
       "    .dataframe thead th {\n",
       "        text-align: right;\n",
       "    }\n",
       "</style>\n",
       "<table border=\"1\" class=\"dataframe\">\n",
       "  <thead>\n",
       "    <tr style=\"text-align: right;\">\n",
       "      <th></th>\n",
       "      <th>Organisasjonsnummer</th>\n",
       "      <th>Navn</th>\n",
       "      <th>Organisasjonsform.kode</th>\n",
       "      <th>Organisasjonsform.beskrivelse</th>\n",
       "      <th>Næringskode 1</th>\n",
       "      <th>Næringskode 1.beskrivelse</th>\n",
       "      <th>Næringskode 2</th>\n",
       "      <th>Næringskode 2.beskrivelse</th>\n",
       "      <th>Næringskode 3</th>\n",
       "      <th>Næringskode 3.beskrivelse</th>\n",
       "      <th>Hjelpeenhetskode</th>\n",
       "      <th>Hjelpeenhetskode.beskrivelse</th>\n",
       "      <th>Antall ansatte</th>\n",
       "      <th>Hjemmeside</th>\n",
       "      <th>Postadresse.adresse</th>\n",
       "      <th>Postadresse.poststed</th>\n",
       "      <th>Postadresse.postnummer</th>\n",
       "      <th>Postadresse.kommune</th>\n",
       "      <th>Postadresse.kommunenummer</th>\n",
       "      <th>Postadresse.land</th>\n",
       "      <th>Postadresse.landkode</th>\n",
       "      <th>Forretningsadresse.adresse</th>\n",
       "      <th>Forretningsadresse.poststed</th>\n",
       "      <th>Forretningsadresse.postnummer</th>\n",
       "      <th>Forretningsadresse.kommune</th>\n",
       "      <th>Forretningsadresse.kommunenummer</th>\n",
       "      <th>Forretningsadresse.land</th>\n",
       "      <th>Forretningsadresse.landkode</th>\n",
       "      <th>Institusjonell sektorkode</th>\n",
       "      <th>Institusjonell sektorkode.beskrivelse</th>\n",
       "      <th>Siste innsendte årsregnskap</th>\n",
       "      <th>Registreringsdato i Enhetsregisteret</th>\n",
       "      <th>Stiftelsesdato</th>\n",
       "      <th>FrivilligRegistrertIMvaregisteret</th>\n",
       "      <th>Registrert i MVA-registeret</th>\n",
       "      <th>Registrert i Frivillighetsregisteret</th>\n",
       "      <th>Registrert i Foretaksregisteret</th>\n",
       "      <th>Registrert i Stiftelsesregisteret</th>\n",
       "      <th>Konkurs</th>\n",
       "      <th>Under avvikling</th>\n",
       "      <th>Under tvangsavvikling eller tvangsoppløsning</th>\n",
       "      <th>Overordnet enhet i offentlig sektor</th>\n",
       "      <th>Målform</th>\n",
       "    </tr>\n",
       "  </thead>\n",
       "  <tbody>\n",
       "    <tr>\n",
       "      <th>104</th>\n",
       "      <td>921233418</td>\n",
       "      <td>ORKLAND KOMMUNE</td>\n",
       "      <td>KOMM</td>\n",
       "      <td>Kommune</td>\n",
       "      <td>84.11</td>\n",
       "      <td>Generell offentlig administrasjon</td>\n",
       "      <td>NaN</td>\n",
       "      <td>NaN</td>\n",
       "      <td>NaN</td>\n",
       "      <td>NaN</td>\n",
       "      <td>NaN</td>\n",
       "      <td>NaN</td>\n",
       "      <td>2930</td>\n",
       "      <td>orkland.kommune.no</td>\n",
       "      <td>Postboks 83</td>\n",
       "      <td>ORKANGER</td>\n",
       "      <td>7301</td>\n",
       "      <td>ORKLAND</td>\n",
       "      <td>5059</td>\n",
       "      <td>Norge</td>\n",
       "      <td>NO</td>\n",
       "      <td>Allfarveien 5</td>\n",
       "      <td>ORKANGER</td>\n",
       "      <td>7300.0</td>\n",
       "      <td>ORKLAND</td>\n",
       "      <td>5059.0</td>\n",
       "      <td>Norge</td>\n",
       "      <td>NO</td>\n",
       "      <td>6500.0</td>\n",
       "      <td>Kommuneforvaltningen</td>\n",
       "      <td>NaN</td>\n",
       "      <td>2018-08-13</td>\n",
       "      <td>NaN</td>\n",
       "      <td>NaN</td>\n",
       "      <td>JA</td>\n",
       "      <td>NEI</td>\n",
       "      <td>NEI</td>\n",
       "      <td>NEI</td>\n",
       "      <td>NEI</td>\n",
       "      <td>NEI</td>\n",
       "      <td>NEI</td>\n",
       "      <td>NaN</td>\n",
       "      <td>Bokmål</td>\n",
       "    </tr>\n",
       "  </tbody>\n",
       "</table>\n",
       "</div>"
      ],
      "text/plain": [
       "     Organisasjonsnummer             Navn Organisasjonsform.kode  \\\n",
       "104            921233418  ORKLAND KOMMUNE                   KOMM   \n",
       "\n",
       "    Organisasjonsform.beskrivelse  Næringskode 1  \\\n",
       "104                       Kommune          84.11   \n",
       "\n",
       "             Næringskode 1.beskrivelse  Næringskode 2  \\\n",
       "104  Generell offentlig administrasjon            NaN   \n",
       "\n",
       "    Næringskode 2.beskrivelse  Næringskode 3 Næringskode 3.beskrivelse  \\\n",
       "104                       NaN            NaN                       NaN   \n",
       "\n",
       "     Hjelpeenhetskode Hjelpeenhetskode.beskrivelse  Antall ansatte  \\\n",
       "104               NaN                          NaN            2930   \n",
       "\n",
       "             Hjemmeside Postadresse.adresse Postadresse.poststed  \\\n",
       "104  orkland.kommune.no         Postboks 83             ORKANGER   \n",
       "\n",
       "     Postadresse.postnummer Postadresse.kommune  Postadresse.kommunenummer  \\\n",
       "104                    7301             ORKLAND                       5059   \n",
       "\n",
       "    Postadresse.land Postadresse.landkode Forretningsadresse.adresse  \\\n",
       "104            Norge                   NO              Allfarveien 5   \n",
       "\n",
       "    Forretningsadresse.poststed  Forretningsadresse.postnummer  \\\n",
       "104                    ORKANGER                         7300.0   \n",
       "\n",
       "    Forretningsadresse.kommune  Forretningsadresse.kommunenummer  \\\n",
       "104                    ORKLAND                            5059.0   \n",
       "\n",
       "    Forretningsadresse.land Forretningsadresse.landkode  \\\n",
       "104                   Norge                          NO   \n",
       "\n",
       "    Institusjonell sektorkode Institusjonell sektorkode.beskrivelse  \\\n",
       "104                    6500.0                  Kommuneforvaltningen   \n",
       "\n",
       "    Siste innsendte årsregnskap Registreringsdato i Enhetsregisteret  \\\n",
       "104                         NaN                           2018-08-13   \n",
       "\n",
       "    Stiftelsesdato FrivilligRegistrertIMvaregisteret  \\\n",
       "104            NaN                               NaN   \n",
       "\n",
       "    Registrert i MVA-registeret Registrert i Frivillighetsregisteret  \\\n",
       "104                          JA                                  NEI   \n",
       "\n",
       "    Registrert i Foretaksregisteret Registrert i Stiftelsesregisteret Konkurs  \\\n",
       "104                             NEI                               NEI     NEI   \n",
       "\n",
       "    Under avvikling Under tvangsavvikling eller tvangsoppløsning  \\\n",
       "104             NEI                                          NEI   \n",
       "\n",
       "     Overordnet enhet i offentlig sektor Målform  \n",
       "104                                  NaN  Bokmål  "
      ]
     },
     "execution_count": 13,
     "metadata": {},
     "output_type": "execute_result"
    }
   ],
   "source": [
    "df_ny[df_ny[\"Organisasjonsform.kode\"]==\"KOMM\"]"
   ]
  },
  {
   "cell_type": "code",
   "execution_count": 62,
   "id": "8213c43d-1db3-4600-a3d7-dd9a02e24cf7",
   "metadata": {},
   "outputs": [
    {
     "data": {
      "text/plain": [
       "<AxesSubplot:xlabel='Organisasjonsform.kode', ylabel='Antall ansatte'>"
      ]
     },
     "execution_count": 62,
     "metadata": {},
     "output_type": "execute_result"
    },
    {
     "data": {
      "image/png": "[encoded data removed]",
      "text/plain": [
       "<Figure size 432x288 with 1 Axes>"
      ]
     },
     "metadata": {
      "needs_background": "light"
     },
     "output_type": "display_data"
    }
   ],
   "source": [
    "sns.barplot(data=df, x=\"Organisasjonsform.kode\", y=\"Antall ansatte\")\n",
    "\n",
    "# sns.barplot(data=df, y=\"orgnr\", x = \n"
   ]
  },
  {
   "cell_type": "code",
   "execution_count": 63,
   "id": "d3840ecd-6bf3-479a-a29d-177fd6bfad31",
   "metadata": {},
   "outputs": [
    {
     "data": {
      "text/plain": [
       "<AxesSubplot:xlabel='Organisasjonsform.kode', ylabel='count'>"
      ]
     },
     "execution_count": 63,
     "metadata": {},
     "output_type": "execute_result"
    },
    {
     "data": {
      "image/png": "[encoded data removed]",
      "text/plain": [
       "<Figure size 432x288 with 1 Axes>"
      ]
     },
     "metadata": {
      "needs_background": "light"
     },
     "output_type": "display_data"
    }
   ],
   "source": [
    "sns.countplot(data = df,  x=\"Organisasjonsform.kode\")"
   ]
  },
  {
   "cell_type": "code",
   "execution_count": null,
   "id": "92a2ac30-08af-4e19-9628-47e42acefa02",
   "metadata": {},
   "outputs": [],
   "source": []
  },
  {
   "cell_type": "code",
   "execution_count": null,
   "id": "9bc9f87a-3ec9-49fe-93be-2c25e5d73b91",
   "metadata": {},
   "outputs": [],
   "source": []
  }
 ],
 "metadata": {
  "kernelspec": {
   "display_name": "Python 3 (ipykernel)",
   "language": "python",
   "name": "python3"
  },
  "language_info": {
   "codemirror_mode": {
    "name": "ipython",
    "version": 3
   },
   "file_extension": ".py",
   "mimetype": "text/x-python",
   "name": "python",
   "nbconvert_exporter": "python",
   "pygments_lexer": "ipython3",
   "version": "3.9.7"
  }
 },
 "nbformat": 4,
 "nbformat_minor": 5
}
